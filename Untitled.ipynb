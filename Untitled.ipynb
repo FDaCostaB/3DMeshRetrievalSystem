{
 "cells": [
  {
   "cell_type": "code",
   "execution_count": 1,
   "id": "27c00a72",
   "metadata": {},
   "outputs": [],
   "source": [
    "import pymeshlab"
   ]
  },
  {
   "cell_type": "code",
   "execution_count": null,
   "id": "55206118",
   "metadata": {},
   "outputs": [],
   "source": [
    "PATH = r'D:\\My Projects\\UU\\PRINCETON\\building\\m385.ply'"
   ]
  },
  {
   "cell_type": "code",
   "execution_count": 2,
   "id": "19de2210",
   "metadata": {},
   "outputs": [],
   "source": [
    "PATH = r'D:\\My Projects\\UU\\LabeledDB_new\\Chair\\101.off'"
   ]
  },
  {
   "cell_type": "code",
   "execution_count": 3,
   "id": "83ac8296",
   "metadata": {},
   "outputs": [],
   "source": [
    "ms = pymeshlab.MeshSet()\n",
    "ms.load_new_mesh(PATH)"
   ]
  },
  {
   "cell_type": "code",
   "execution_count": 4,
   "id": "e1ca8e82",
   "metadata": {},
   "outputs": [],
   "source": [
    "ms.show_polyscope()"
   ]
  },
  {
   "cell_type": "code",
   "execution_count": 5,
   "id": "2d1ca44c",
   "metadata": {},
   "outputs": [],
   "source": [
    "cur = ms.current_mesh()"
   ]
  },
  {
   "cell_type": "code",
   "execution_count": 6,
   "id": "873ce480",
   "metadata": {},
   "outputs": [
    {
     "name": "stdout",
     "output_type": "stream",
     "text": [
      "Face number:16998 - Vertex number:8499\n"
     ]
    }
   ],
   "source": [
    "print(\"Face number:\" + str(cur.face_number()) + \" - Vertex number:\" + str(cur.vertex_number()))"
   ]
  },
  {
   "cell_type": "code",
   "execution_count": null,
   "id": "9ed7ae47",
   "metadata": {},
   "outputs": [],
   "source": [
    "ms.compute_iso_parametrization(targetabstractminfacenum = 20000, targetabstractmaxfacenum = 25000)"
   ]
  },
  {
   "cell_type": "code",
   "execution_count": null,
   "id": "c7866cfc",
   "metadata": {},
   "outputs": [],
   "source": [
    "ms.number_meshes()"
   ]
  },
  {
   "cell_type": "code",
   "execution_count": null,
   "id": "6a6e5b22",
   "metadata": {},
   "outputs": [],
   "source": [
    "ms.number_rasters()"
   ]
  },
  {
   "cell_type": "code",
   "execution_count": null,
   "id": "eab37b4a",
   "metadata": {},
   "outputs": [],
   "source": [
    "ms.generate_convex_hull()"
   ]
  },
  {
   "cell_type": "code",
   "execution_count": null,
   "id": "b5a1e3c9",
   "metadata": {},
   "outputs": [],
   "source": [
    "ms.number_meshes()"
   ]
  },
  {
   "cell_type": "code",
   "execution_count": null,
   "id": "c4c5ad22",
   "metadata": {},
   "outputs": [],
   "source": [
    "ms.show_polyscope()"
   ]
  },
  {
   "cell_type": "code",
   "execution_count": null,
   "id": "33752b26",
   "metadata": {},
   "outputs": [],
   "source": [
    "m = ms.current_mesh()"
   ]
  },
  {
   "cell_type": "code",
   "execution_count": 12,
   "id": "f6cc91c2",
   "metadata": {},
   "outputs": [],
   "source": [
    "cur = ms.current_mesh()"
   ]
  },
  {
   "cell_type": "code",
   "execution_count": 13,
   "id": "15e25743",
   "metadata": {},
   "outputs": [
    {
     "name": "stdout",
     "output_type": "stream",
     "text": [
      "Face number:16998 - Vertex number:8499\n"
     ]
    }
   ],
   "source": [
    "print(\"Face number:\" + str(cur.face_number()) + \" - Vertex number:\" + str(cur.vertex_number()))"
   ]
  },
  {
   "cell_type": "code",
   "execution_count": null,
   "id": "efdd3a75",
   "metadata": {},
   "outputs": [],
   "source": [
    "p = pymeshlab.Percentage(20)"
   ]
  },
  {
   "cell_type": "code",
   "execution_count": null,
   "id": "f52922f0",
   "metadata": {},
   "outputs": [],
   "source": [
    "ms.meshing_remove_connected_component_by_diameter(mincomponentdiag=p)"
   ]
  },
  {
   "cell_type": "code",
   "execution_count": null,
   "id": "d86c6fac",
   "metadata": {},
   "outputs": [],
   "source": [
    "cur = ms.current_mesh()"
   ]
  },
  {
   "cell_type": "code",
   "execution_count": null,
   "id": "a29af15c",
   "metadata": {},
   "outputs": [],
   "source": [
    "print(\"Face number:\" + str(cur.face_number()) + \" - Vertex number:\" + str(cur.vertex_number()))"
   ]
  },
  {
   "cell_type": "code",
   "execution_count": null,
   "id": "31141376",
   "metadata": {},
   "outputs": [],
   "source": [
    "out_dict = ms.get_geometric_measures()"
   ]
  },
  {
   "cell_type": "code",
   "execution_count": null,
   "id": "2eaf1798",
   "metadata": {},
   "outputs": [],
   "source": [
    "print(out_dict)"
   ]
  },
  {
   "cell_type": "code",
   "execution_count": null,
   "id": "74b4a778",
   "metadata": {},
   "outputs": [],
   "source": [
    "ms.meshing_isotropic_explicit_remeshing()"
   ]
  },
  {
   "cell_type": "code",
   "execution_count": null,
   "id": "a4178be9",
   "metadata": {},
   "outputs": [],
   "source": [
    "cur = ms.current_mesh()"
   ]
  },
  {
   "cell_type": "code",
   "execution_count": null,
   "id": "51a6726c",
   "metadata": {},
   "outputs": [],
   "source": [
    "print(\"Face number:\" + str(cur.face_number()) + \" - Vertex number:\" + str(cur.vertex_number()))"
   ]
  },
  {
   "cell_type": "code",
   "execution_count": 10,
   "id": "23dd939f",
   "metadata": {},
   "outputs": [],
   "source": [
    "ms.show_polyscope()"
   ]
  },
  {
   "cell_type": "code",
   "execution_count": null,
   "id": "5c27232a",
   "metadata": {},
   "outputs": [],
   "source": [
    "ms.generate_by_merging_visible_meshes()"
   ]
  },
  {
   "cell_type": "code",
   "execution_count": 8,
   "id": "a69fb0c3",
   "metadata": {},
   "outputs": [],
   "source": [
    "cur = ms.current_mesh()"
   ]
  },
  {
   "cell_type": "code",
   "execution_count": 9,
   "id": "b87e0488",
   "metadata": {},
   "outputs": [
    {
     "name": "stdout",
     "output_type": "stream",
     "text": [
      "Face number:16998 - Vertex number:8499\n"
     ]
    }
   ],
   "source": [
    "print(\"Face number:\" + str(cur.face_number()) + \" - Vertex number:\" + str(cur.vertex_number()))"
   ]
  },
  {
   "cell_type": "code",
   "execution_count": 7,
   "id": "a29034c9",
   "metadata": {},
   "outputs": [
    {
     "ename": "PyMeshLabException",
     "evalue": "Failed to apply filter: compute_iso_parametrization\nDetails: non possible parameterization cause one of the following reasons:\n Topologycal noise \n Too Low resolution mesh \n Too Bad triangulation \n",
     "output_type": "error",
     "traceback": [
      "\u001b[1;31m---------------------------------------------------------------------------\u001b[0m",
      "\u001b[1;31mPyMeshLabException\u001b[0m                        Traceback (most recent call last)",
      "\u001b[1;32m~\\AppData\\Local\\Temp\\ipykernel_12692\\3144884892.py\u001b[0m in \u001b[0;36m<module>\u001b[1;34m\u001b[0m\n\u001b[1;32m----> 1\u001b[1;33m \u001b[0mabsMesh\u001b[0m \u001b[1;33m=\u001b[0m \u001b[0mms\u001b[0m\u001b[1;33m.\u001b[0m\u001b[0mcompute_iso_parametrization\u001b[0m\u001b[1;33m(\u001b[0m\u001b[1;33m)\u001b[0m\u001b[1;33m\u001b[0m\u001b[1;33m\u001b[0m\u001b[0m\n\u001b[0m",
      "\u001b[1;32mE:\\Users\\Sohiyel\\anaconda3\\envs\\MR\\lib\\site-packages\\pymeshlab\\__init__.py\u001b[0m in \u001b[0;36mfoo\u001b[1;34m(self, **kwargs)\u001b[0m\n\u001b[0;32m     39\u001b[0m \u001b[1;32mdef\u001b[0m \u001b[0mbind_function\u001b[0m\u001b[1;33m(\u001b[0m\u001b[0mname\u001b[0m\u001b[1;33m)\u001b[0m\u001b[1;33m:\u001b[0m\u001b[1;33m\u001b[0m\u001b[1;33m\u001b[0m\u001b[0m\n\u001b[0;32m     40\u001b[0m     \u001b[1;32mdef\u001b[0m \u001b[0mfoo\u001b[0m\u001b[1;33m(\u001b[0m\u001b[0mself\u001b[0m\u001b[1;33m,\u001b[0m \u001b[1;33m**\u001b[0m\u001b[0mkwargs\u001b[0m\u001b[1;33m)\u001b[0m\u001b[1;33m:\u001b[0m  \u001b[1;31m# Have to add self since this will become a method\u001b[0m\u001b[1;33m\u001b[0m\u001b[1;33m\u001b[0m\u001b[0m\n\u001b[1;32m---> 41\u001b[1;33m         \u001b[0mres_dict\u001b[0m \u001b[1;33m=\u001b[0m \u001b[0mself\u001b[0m\u001b[1;33m.\u001b[0m\u001b[0mapply_filter\u001b[0m\u001b[1;33m(\u001b[0m\u001b[0mname\u001b[0m\u001b[1;33m,\u001b[0m \u001b[1;33m**\u001b[0m\u001b[0mkwargs\u001b[0m\u001b[1;33m)\u001b[0m\u001b[1;33m\u001b[0m\u001b[1;33m\u001b[0m\u001b[0m\n\u001b[0m\u001b[0;32m     42\u001b[0m         \u001b[1;32mif\u001b[0m \u001b[0mbool\u001b[0m\u001b[1;33m(\u001b[0m\u001b[0mres_dict\u001b[0m\u001b[1;33m)\u001b[0m\u001b[1;33m:\u001b[0m  \u001b[1;31m# return the dictionary only if it is not empty\u001b[0m\u001b[1;33m\u001b[0m\u001b[1;33m\u001b[0m\u001b[0m\n\u001b[0;32m     43\u001b[0m             \u001b[1;32mreturn\u001b[0m \u001b[0mres_dict\u001b[0m\u001b[1;33m\u001b[0m\u001b[1;33m\u001b[0m\u001b[0m\n",
      "\u001b[1;31mPyMeshLabException\u001b[0m: Failed to apply filter: compute_iso_parametrization\nDetails: non possible parameterization cause one of the following reasons:\n Topologycal noise \n Too Low resolution mesh \n Too Bad triangulation \n"
     ]
    }
   ],
   "source": [
    "absMesh = ms.compute_iso_parametrization()"
   ]
  },
  {
   "cell_type": "code",
   "execution_count": null,
   "id": "1cc1fd92",
   "metadata": {},
   "outputs": [],
   "source": [
    "ms.generate_iso_parametrization_remeshing(samplingrate = 5)"
   ]
  },
  {
   "cell_type": "code",
   "execution_count": null,
   "id": "fe75229e",
   "metadata": {},
   "outputs": [],
   "source": [
    "ms.apply_filter(\"compute_iso_parametrization\")"
   ]
  },
  {
   "cell_type": "code",
   "execution_count": null,
   "id": "8cb078b4",
   "metadata": {},
   "outputs": [],
   "source": []
  }
 ],
 "metadata": {
  "kernelspec": {
   "display_name": "Python 3 (ipykernel)",
   "language": "python",
   "name": "python3"
  },
  "language_info": {
   "codemirror_mode": {
    "name": "ipython",
    "version": 3
   },
   "file_extension": ".py",
   "mimetype": "text/x-python",
   "name": "python",
   "nbconvert_exporter": "python",
   "pygments_lexer": "ipython3",
   "version": "3.7.13"
  }
 },
 "nbformat": 4,
 "nbformat_minor": 5
}
